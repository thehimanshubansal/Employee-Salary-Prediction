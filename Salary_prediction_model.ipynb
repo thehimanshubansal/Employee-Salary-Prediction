{
 "cells": [
  {
   "cell_type": "code",
   "execution_count": null,
   "id": "9f10835b",
   "metadata": {},
   "outputs": [],
   "source": [
    "import pandas as pd\n",
    "import xgboost as xgb\n",
    "import matplotlib.pyplot as plt\n",
    "import pickle\n",
    "from xgboost import XGBClassifier\n",
    "from sklearn.preprocessing import LabelEncoder\n",
    "from sklearn.preprocessing import MinMaxScaler\n",
    "from sklearn.model_selection import train_test_split\n",
    "from sklearn.metrics import accuracy_score\n",
    "from mlxtend.plotting import plot_decision_regions\n"
   ]
  },
  {
   "cell_type": "code",
   "execution_count": null,
   "id": "9a606d10",
   "metadata": {},
   "outputs": [],
   "source": [
    "df = pd.read_csv(\"adult 3.csv\")\n",
    "df.head(10)"
   ]
  },
  {
   "cell_type": "code",
   "execution_count": null,
   "id": "d1aaf861",
   "metadata": {},
   "outputs": [],
   "source": [
    "df.shape"
   ]
  },
  {
   "cell_type": "code",
   "execution_count": null,
   "id": "59737aa2",
   "metadata": {},
   "outputs": [],
   "source": [
    "plt.boxplot(df['age'])\n",
    "plt.show()"
   ]
  },
  {
   "cell_type": "code",
   "execution_count": null,
   "id": "f3d37d11",
   "metadata": {},
   "outputs": [],
   "source": [
    "# Removing Outliers\n",
    "df = df[(df['age']<=65) & (df['age']>=17)]"
   ]
  },
  {
   "cell_type": "code",
   "execution_count": null,
   "id": "831a1b18",
   "metadata": {},
   "outputs": [],
   "source": [
    "plt.boxplot(df['educational-num'])\n",
    "plt.show()"
   ]
  },
  {
   "cell_type": "code",
   "execution_count": null,
   "id": "7e9b91a9",
   "metadata": {},
   "outputs": [],
   "source": [
    "# Removing Outliers\n",
    "df = df[(df['educational-num']<=16) & (df['educational-num']>=5)]"
   ]
  },
  {
   "cell_type": "code",
   "execution_count": null,
   "id": "8fe0d8a6",
   "metadata": {},
   "outputs": [],
   "source": [
    "# Feature Extraction : Adding Experience by Subtracting educational years and 6 years of childhood\n",
    "df['experience'] = df['age'] - df['educational-num'] - 6"
   ]
  },
  {
   "cell_type": "code",
   "execution_count": null,
   "id": "616fb379",
   "metadata": {},
   "outputs": [],
   "source": [
    "df.columns.tolist()         # income (label) should be last column"
   ]
  },
  {
   "cell_type": "code",
   "execution_count": null,
   "id": "30dbc4d9",
   "metadata": {},
   "outputs": [],
   "source": [
    "# Rearranging the columns\n",
    "cols = df.columns.tolist()[:-1]\n",
    "cols.insert(1,'experience')\n",
    "df = df[cols]\n",
    "df.columns.tolist()"
   ]
  },
  {
   "cell_type": "code",
   "execution_count": null,
   "id": "e50ff962",
   "metadata": {},
   "outputs": [],
   "source": [
    "for col in df.columns:\n",
    "    if col not in df.select_dtypes(['number']).columns:\n",
    "        print(df[col].value_counts())\n",
    "        print('\\n')"
   ]
  },
  {
   "cell_type": "code",
   "execution_count": null,
   "id": "892b76b9",
   "metadata": {},
   "outputs": [],
   "source": [
    "for col in ['workclass','native-country','occupation']:\n",
    "    df[col].replace({'?':'Others'},inplace=True)"
   ]
  },
  {
   "cell_type": "code",
   "execution_count": null,
   "id": "c3e1fc5d",
   "metadata": {},
   "outputs": [],
   "source": [
    "# Removing non impacting categories of 'workclass' and 'education'\n",
    "df = df[df['workclass']!='Without-pay']\n",
    "df = df[df['workclass']!='Never-worked']\n",
    "df = df[df['education']!='Preschool']\n",
    "df = df[df['education']!='1st-4th']\n",
    "df = df[df['education']!='5th-6th']\n",
    "df.shape"
   ]
  },
  {
   "cell_type": "code",
   "execution_count": null,
   "id": "bf167f01",
   "metadata": {},
   "outputs": [],
   "source": [
    "df.drop(columns=['education'],inplace=True)         # Since we have educational-num\n",
    "df.drop(columns=['fnlwgt'],inplace=True)         # Since fnlwgt is a sampling weight and typically not very predictive."
   ]
  },
  {
   "cell_type": "code",
   "execution_count": null,
   "id": "4abfa273",
   "metadata": {},
   "outputs": [],
   "source": [
    "df.to_csv(\"Employee_details.csv\")"
   ]
  },
  {
   "cell_type": "code",
   "execution_count": null,
   "id": "de585b41",
   "metadata": {},
   "outputs": [],
   "source": [
    "# Applying Label Encodeing\n",
    "categorical_cols = ['workclass','marital-status','occupation','relationship','race','gender','native-country','income']\n",
    "\n",
    "label_encoders = {}\n",
    "\n",
    "for col in categorical_cols:\n",
    "    lben = LabelEncoder()\n",
    "    df[col] = lben.fit_transform(df[col])\n",
    "    label_encoders[col] = lben\n",
    "\n",
    "df"
   ]
  },
  {
   "cell_type": "code",
   "execution_count": null,
   "id": "abd49c88",
   "metadata": {},
   "outputs": [],
   "source": [
    "# Separating features and label\n",
    "x = df.iloc[:,:-1]\n",
    "y = df['income']"
   ]
  },
  {
   "cell_type": "code",
   "execution_count": null,
   "id": "5189a32a",
   "metadata": {},
   "outputs": [],
   "source": [
    "# Appling MinMax Scaling Technique\n",
    "scaler = MinMaxScaler()\n",
    "x = scaler.fit_transform(x)\n",
    "x\n"
   ]
  },
  {
   "cell_type": "code",
   "execution_count": null,
   "id": "6b427d31",
   "metadata": {},
   "outputs": [],
   "source": [
    "# Save label encoders\n",
    "with open(\"label_encoders.pkl\", \"wb\") as f:\n",
    "    pickle.dump(label_encoders, f)\n",
    "\n",
    "# Save scaler\n",
    "with open(\"scaler.pkl\", \"wb\") as f:\n",
    "    pickle.dump(scaler, f)"
   ]
  },
  {
   "cell_type": "code",
   "execution_count": null,
   "id": "27787649",
   "metadata": {},
   "outputs": [],
   "source": [
    "xtrain, xtest, ytrain, ytest = train_test_split(x,y,test_size=0.2,random_state=23,stratify=y)\n",
    "xtrain"
   ]
  },
  {
   "cell_type": "code",
   "execution_count": null,
   "id": "e6c3a416",
   "metadata": {},
   "outputs": [],
   "source": [
    "# After testing various models, XGBoost comes up as Best Model for Employee Salary Prediction \n",
    "\n",
    "model = XGBClassifier(\n",
    "    n_estimators = 100,\n",
    "    learning_rate = 0.1,\n",
    "    max_depth=6,\n",
    "    eval_metric= 'logloss',\n",
    "    random_state=42\n",
    ")\n",
    "model.fit(xtrain,ytrain)\n",
    "predictxg = model.predict(xtest)\n",
    "print('Accuracy of XGBoost: ',accuracy_score(ytest,predictxg))"
   ]
  },
  {
   "cell_type": "code",
   "execution_count": null,
   "id": "e00eda92",
   "metadata": {},
   "outputs": [],
   "source": [
    "import joblib \n",
    "\n",
    "joblib.dump(model,\"model.pkl\")"
   ]
  },
  {
   "cell_type": "code",
   "execution_count": null,
   "id": "0509a767",
   "metadata": {},
   "outputs": [],
   "source": [
    "# for adding column names to the XGBoost Feature Importance graph\n",
    "model.get_booster().feature_names = df.columns[:-1].tolist()\n"
   ]
  },
  {
   "cell_type": "code",
   "execution_count": null,
   "id": "cf57a3de",
   "metadata": {},
   "outputs": [],
   "source": [
    "from xgboost import plot_importance\n",
    "\n",
    "plt.figure(figsize=(10,6))\n",
    "plot_importance(model,max_num_features=13)\n",
    "plt.title(\"XGBoost Feature Importance\")                 # Good for: Understanding which features influence predictions most.\n",
    "plt.show()"
   ]
  },
  {
   "cell_type": "code",
   "execution_count": null,
   "id": "55410526",
   "metadata": {},
   "outputs": [],
   "source": [
    "df.shape\n"
   ]
  }
 ],
 "metadata": {
  "kernelspec": {
   "display_name": "Python 3",
   "language": "python",
   "name": "python3"
  },
  "language_info": {
   "codemirror_mode": {
    "name": "ipython",
    "version": 3
   },
   "file_extension": ".py",
   "mimetype": "text/x-python",
   "name": "python",
   "nbconvert_exporter": "python",
   "pygments_lexer": "ipython3",
   "version": "3.11.5"
  }
 },
 "nbformat": 4,
 "nbformat_minor": 5
}
